{
 "cells": [
  {
   "cell_type": "markdown",
   "metadata": {},
   "source": [
    "# NHANES data\n",
    "\n",
    "> ### [Variable search](http://wwwn.cdc.gov/Nchs/Nhanes/Search/default.aspx)\n",
    "> ### [Demographic data](http://wwwn.cdc.gov/Nchs/Nhanes/Search/DataPage.aspx?Component=Demographics) - [variable list](http://wwwn.cdc.gov/nchs/nhanes/search/variablelist.aspx?Component=Demographics)\n",
    "> ### [Dietary](http://wwwn.cdc.gov/Nchs/Nhanes/Search/DataPage.aspx?Component=Dietary) - [variable list](http://wwwn.cdc.gov/nchs/nhanes/search/variablelist.aspx?Component=Dietary)\n",
    "> ### [Examination](http://wwwn.cdc.gov/Nchs/Nhanes/Search/DataPage.aspx?Component=Examination) - [variable list](http://wwwn.cdc.gov/nchs/nhanes/search/variablelist.aspx?Component=Examination)\n",
    "> ### [Laboratory](http://wwwn.cdc.gov/Nchs/Nhanes/Search/DataPage.aspx?Component=Laboratory) - [variable list](http://wwwn.cdc.gov/nchs/nhanes/search/variablelist.aspx?Component=Laboratory)\n",
    "> ### [Questionnaire](http://wwwn.cdc.gov/Nchs/Nhanes/Search/DataPage.aspx?Component=Questionnaire) - [variable list](http://wwwn.cdc.gov/nchs/nhanes/search/variablelist.aspx?Component=Questionnaire)\n",
    "\n",
    "# Methods\n",
    "\n",
    "### Data source\n",
    "> In this study, we used a 1999-2004 data set from the National Health and Nutrition Examination Survey (NHANES) to generate the SVM algorithm. NHANES is an ongoing, cross-sectional, probability sample survey of the U.S. population. It collects demographic, health history, and behavioral information from participants in home interviews. Participants are also invited for detailed physical, physiological, and laboratory examinations that are performed by trained personnel in specially equipped mobile centers [15].\n",
    "\n",
    "> We limited our study to non-pregnant participants aged 20 or older. Participants were considered to have diagnosed diabetes if they answered “yes” to the question “Have you ever been told by a doctor or health professionals that you have diabetes?” Participants who answered “no” to this question but who had a measured fasting plasma glucose ≥ 126 mg/dl were considered to have undiagnosed diabetes; those with a fasting plasma glucose 100-125 mg/dl were considered to have pre-diabetes. Participants with fasting glucose <100 mg/dl were considered to not have diabetes\n",
    "\n",
    "> We devised two different classification schemes (Table 1). In Classification Scheme I, the group of persons with diabetes (diagnosed or undiagnosed) was distinguished from those without diabetes, including persons with pre-diabetes. In Classification Scheme II, the group of persons with either undiagnosed diabetes or pre-diabetes was distinguished from those without diabetes. The models were developed using a sample of 80% of the individuals in each group and validated in the remaining 20%.\n",
    "\n",
    "### Variable selection\n",
    "> We selected 14 simple variables commonly associated with the risk for diabetes: family history, age, gender, race and ethnicity, weight, height, waist circumference, BMI, hypertension, physical activity, smoking, alcohol use, education, and household income. Variable selection was performed according to an automatic approach developed by Chen et al. [16]. The significance of the automatically selected set of variables was further manually evaluated by fine tuning parameters. The variables included in the final selection were those with the best discriminative performance.\n",
    "\n",
    "### Table 1\n",
    "\n",
    "<img src=\"./img/table1.png\">"
   ]
  },
  {
   "cell_type": "code",
   "execution_count": 31,
   "metadata": {
    "collapsed": false
   },
   "outputs": [],
   "source": [
    "import os\n",
    "import pandas as pd\n",
    "import matplotlib.pylab as plt\n",
    "from utils import fetch_NHANES\n",
    "\n",
    "plt.style.use('ggplot')\n",
    "%matplotlib inline"
   ]
  },
  {
   "cell_type": "code",
   "execution_count": 32,
   "metadata": {
    "collapsed": false
   },
   "outputs": [
    {
     "name": "stdout",
     "output_type": "stream",
     "text": [
      "Help on function fetch_NHANES in module utils:\n",
      "\n",
      "fetch_NHANES(year, database, data_dir='./data')\n",
      "    Retrieve NHANES data as a Pandas DataFrame.\n",
      "    \n",
      "    Years of available data:\n",
      "        1999-2000, 2001-2002, 2003-2004, 2005-2006,\n",
      "        2007-2008, 2009-2010, 2011-2012, 2013-2014\n",
      "\n"
     ]
    }
   ],
   "source": [
    "help(fetch_NHANES)"
   ]
  },
  {
   "cell_type": "code",
   "execution_count": 35,
   "metadata": {
    "collapsed": false
   },
   "outputs": [],
   "source": [
    "DEMO = pd.read_csv('./data/1999-2000/DEMO.csv')\n",
    "DEMO_B = pd.read_csv('./data/2001-2002/DEMO_B.csv')\n",
    "DEMO_C = pd.read_csv('./data/2003-2004/DEMO_C.csv')"
   ]
  },
  {
   "cell_type": "code",
   "execution_count": 36,
   "metadata": {
    "collapsed": true
   },
   "outputs": [],
   "source": [
    "DIQ = pd.read_csv('./data/1999-2000/DIQ.csv')\n",
    "DIQ_B = pd.read_csv('./data/2001-2002/DIQ_B.csv')\n",
    "DIQ_C = pd.read_csv('./data/2003-2004/DIQ_C.csv')"
   ]
  },
  {
   "cell_type": "code",
   "execution_count": 37,
   "metadata": {
    "collapsed": true
   },
   "outputs": [],
   "source": [
    "LAB10AM = pd.read_csv('./data/1999-2000/LAB10AM.csv')\n",
    "L10AM_B = pd.read_csv('./data/2001-2002/L10AM_B.csv')\n",
    "L10AM_C = pd.read_csv('./data/2003-2004/L10AM_C.csv')"
   ]
  },
  {
   "cell_type": "code",
   "execution_count": 38,
   "metadata": {
    "collapsed": true
   },
   "outputs": [],
   "source": [
    "ALQ = pd.read_csv('./data/1999-2000/ALQ.csv')\n",
    "ALQ_B = pd.read_csv('./data/2001-2002/ALQ_B.csv')\n",
    "ALQ_C = pd.read_csv('./data/2003-2004/ALQ_C.csv')"
   ]
  },
  {
   "cell_type": "code",
   "execution_count": 39,
   "metadata": {
    "collapsed": true
   },
   "outputs": [],
   "source": [
    "SMQ = pd.read_csv('./data/1999-2000/SMQ.csv')\n",
    "SMQ_B = pd.read_csv('./data/2001-2002/SMQ_B.csv')\n",
    "SMQ_C = pd.read_csv('./data/2003-2004/SMQ_C.csv')"
   ]
  },
  {
   "cell_type": "code",
   "execution_count": 40,
   "metadata": {
    "collapsed": true
   },
   "outputs": [],
   "source": [
    "BMX = pd.read_csv('./data/1999-2000/BMX.csv')\n",
    "BMX_B = pd.read_csv('./data/2001-2002/BMX_B.csv')\n",
    "BMX_C = pd.read_csv('./data/2003-2004/BMX_C.csv')"
   ]
  },
  {
   "cell_type": "code",
   "execution_count": 41,
   "metadata": {
    "collapsed": true
   },
   "outputs": [],
   "source": [
    "BPQ = pd.read_csv('./data/1999-2000/BPQ.csv')\n",
    "BPQ_B = pd.read_csv('./data/2001-2002/BPQ_B.csv')\n",
    "BPQ_C = pd.read_csv('./data/2003-2004/BPQ_C.csv')"
   ]
  },
  {
   "cell_type": "code",
   "execution_count": 42,
   "metadata": {
    "collapsed": true
   },
   "outputs": [],
   "source": [
    "MCQ = pd.read_csv('./data/1999-2000/MCQ.csv')\n",
    "MCQ_B = pd.read_csv('./data/2001-2002/MCQ_B.csv')\n",
    "MCQ_C = pd.read_csv('./data/2003-2004/MCQ_C.csv')"
   ]
  },
  {
   "cell_type": "code",
   "execution_count": 43,
   "metadata": {
    "collapsed": true
   },
   "outputs": [],
   "source": [
    "PAQ = pd.read_csv('./data/1999-2000/PAQ.csv')\n",
    "PAQ_B = pd.read_csv('./data/2001-2002/PAQ_B.csv')\n",
    "PAQ_C = pd.read_csv('./data/2003-2004/PAQ_C.csv')"
   ]
  },
  {
   "cell_type": "markdown",
   "metadata": {},
   "source": [
    "### variables of interest\n",
    "```\n",
    "DEMO\n",
    "    age:            \n",
    "                    RIDAGEYR\n",
    "    gender:         \n",
    "                    RIAGENDR\n",
    "    race:           \n",
    "                    RIDRETH1 # Race/Ethnicity - Recode\n",
    "    weight:         \n",
    "                    WTINT2YR # Full Sample 2 Year Interview Weight\n",
    "                    WTINT4YR # Full Sample 4 Year Interview Weight\n",
    "                    WTMEC2YR # Full Sample 2 Year MEC Exam Weight\n",
    "                    WTMEC4YR # Full Sample 4 Year MEC Exam Weight\n",
    "    education:\n",
    "                    DMDEDUC2 # Education Level - Adults 20+\n",
    "    house income:   \n",
    "                    INDHHINC # Annual Household Income\n",
    "\n",
    "ALQ\n",
    "    alcohol use:    \n",
    "                    ALQ110   # Had at least 12 alcohol drinks/lifetime?\n",
    "                    // ALD100   # Had at least 12 alcohol drinks/1 yr?\n",
    "                    // ALD240   # How often drink beer (per month)\n",
    "    \n",
    "SMQ\n",
    "    smoking:        SMD130   # Age started pipe smoking regularly\n",
    "                    SMD410   # Does anyone smoke in the home\n",
    "                    SMQ050Q\t # How long since quit smoking cigarettes\n",
    "\n",
    "BMX\n",
    "    height:         BMXHT    # Standing Height (cm)\n",
    "    waist cir:      BMXWAIST # Waist Circumference (cm)\n",
    "    bmi:            BMXBMI   # Body Mass Index (kg/m**2)\n",
    "\n",
    "BPQ\n",
    "    hypertension:   BPQ020   # Ever told you had high blood pressure\n",
    "\n",
    "PAQ\n",
    "    phys act:       PAQ180   # Avg level of physical activity each day\n",
    "\n",
    "MCQ\n",
    "    family hx:      MCQ250A  # Blood relatives have diabetes\n",
    "```"
   ]
  },
  {
   "cell_type": "markdown",
   "metadata": {},
   "source": [
    "### Age >= 20 and non-pregnant population"
   ]
  },
  {
   "cell_type": "code",
   "execution_count": 44,
   "metadata": {
    "collapsed": false
   },
   "outputs": [],
   "source": [
    "age = 20"
   ]
  },
  {
   "cell_type": "code",
   "execution_count": 45,
   "metadata": {
    "collapsed": false
   },
   "outputs": [
    {
     "data": {
      "text/plain": [
       "(3284, 14)"
      ]
     },
     "execution_count": 45,
     "metadata": {},
     "output_type": "execute_result"
    }
   ],
   "source": [
    "df_00 = DEMO.loc[((DEMO.RIAGENDR == 2) & (DEMO.RIDAGEYR >= age) & (DEMO.RIDEXPRG == 2)) | \n",
    "                 ((DEMO.RIAGENDR == 1) & (DEMO.RIDAGEYR >= age)),\n",
    "                 ['SEQN', 'RIDAGEYR', 'RIAGENDR', 'RIDRETH1', 'WTINT2YR', 'DMDEDUC2', 'INDHHINC']] \\\n",
    "        .merge(ALQ[['SEQN', 'ALQ110']], on='SEQN') \\\n",
    "        .merge(BMX[['SEQN', 'BMXHT', 'BMXWAIST', 'BMXBMI']], on='SEQN') \\\n",
    "        .merge(BPQ[['SEQN', 'BPQ020']], on='SEQN') \\\n",
    "        .merge(PAQ[['SEQN', 'PAQ180']], on='SEQN') \\\n",
    "        .merge(MCQ[['SEQN', 'MCQ250A']], on='SEQN')\n",
    "\n",
    "df_00.shape"
   ]
  },
  {
   "cell_type": "code",
   "execution_count": 46,
   "metadata": {
    "collapsed": false
   },
   "outputs": [
    {
     "data": {
      "text/plain": [
       "(3799, 14)"
      ]
     },
     "execution_count": 46,
     "metadata": {},
     "output_type": "execute_result"
    }
   ],
   "source": [
    "df_02 = DEMO_B.loc[((DEMO_B.RIAGENDR == 2) & (DEMO_B.RIDAGEYR >= age) & (DEMO_B.RIDEXPRG == 2)) | \n",
    "                   ((DEMO_B.RIAGENDR == 1) & (DEMO_B.RIDAGEYR >= age)),\n",
    "                   ['SEQN', 'RIDAGEYR', 'RIAGENDR', 'RIDRETH1', 'WTINT2YR', 'DMDEDUC2', 'INDHHINC']] \\\n",
    "        .merge(ALQ_B[['SEQN', 'ALQ110']], on='SEQN') \\\n",
    "        .merge(BMX_B[['SEQN', 'BMXHT', 'BMXWAIST', 'BMXBMI']], on='SEQN') \\\n",
    "        .merge(BPQ_B[['SEQN', 'BPQ020']], on='SEQN') \\\n",
    "        .merge(PAQ_B[['SEQN', 'PAQ180']], on='SEQN') \\\n",
    "        .merge(MCQ_B[['SEQN', 'MCQ250A']], on='SEQN')\n",
    "\n",
    "df_02.shape"
   ]
  },
  {
   "cell_type": "code",
   "execution_count": 47,
   "metadata": {
    "collapsed": false
   },
   "outputs": [
    {
     "data": {
      "text/plain": [
       "(3525, 14)"
      ]
     },
     "execution_count": 47,
     "metadata": {},
     "output_type": "execute_result"
    }
   ],
   "source": [
    "df_04 = DEMO_C.loc[((DEMO_C.RIAGENDR == 2) & (DEMO_C.RIDAGEYR >= age) & (DEMO_C.RIDEXPRG == 2)) | \n",
    "                   ((DEMO_C.RIAGENDR == 1) & (DEMO_C.RIDAGEYR >= age)),\n",
    "                   ['SEQN', 'RIDAGEYR', 'RIAGENDR', 'RIDRETH1', 'WTINT2YR', 'DMDEDUC2', 'INDHHINC']] \\\n",
    "        .merge(ALQ_C[['SEQN', 'ALQ110']], on='SEQN') \\\n",
    "        .merge(BMX_C[['SEQN', 'BMXHT', 'BMXWAIST', 'BMXBMI']], on='SEQN') \\\n",
    "        .merge(BPQ_C[['SEQN', 'BPQ020']], on='SEQN') \\\n",
    "        .merge(PAQ_C[['SEQN', 'PAQ180']], on='SEQN') \\\n",
    "        .merge(MCQ_C[['SEQN', 'MCQ250A']], on='SEQN')\n",
    "\n",
    "df_04.shape"
   ]
  },
  {
   "cell_type": "code",
   "execution_count": 48,
   "metadata": {
    "collapsed": false
   },
   "outputs": [
    {
     "data": {
      "text/plain": [
       "(10608, 14)"
      ]
     },
     "execution_count": 48,
     "metadata": {},
     "output_type": "execute_result"
    }
   ],
   "source": [
    "df_pop = pd.concat([df_00, df_02, df_04])\n",
    "df_pop.shape"
   ]
  },
  {
   "cell_type": "markdown",
   "metadata": {},
   "source": [
    "### Diagnosed Diabetes (total should be 1,266)\n",
    "\n",
    "The next questions are about specific medical conditions. {Other than during pregnancy, {have you/has SP}/{Have you/Has SP}} ever been told by a doctor or health professional that {you have/{he/she/SP} has} diabetes or sugar diabetes?"
   ]
  },
  {
   "cell_type": "code",
   "execution_count": 134,
   "metadata": {
    "collapsed": false
   },
   "outputs": [
    {
     "data": {
      "text/plain": [
       "(278, 15)"
      ]
     },
     "execution_count": 134,
     "metadata": {},
     "output_type": "execute_result"
    }
   ],
   "source": [
    "df_00_diag = df_00.merge(DIQ.loc[DIQ.DIQ010 == 1, ['SEQN', 'DIQ010']], on=\"SEQN\")\n",
    "df_00_diag.shape"
   ]
  },
  {
   "cell_type": "code",
   "execution_count": 135,
   "metadata": {
    "collapsed": false
   },
   "outputs": [
    {
     "data": {
      "text/plain": [
       "(308, 15)"
      ]
     },
     "execution_count": 135,
     "metadata": {},
     "output_type": "execute_result"
    }
   ],
   "source": [
    "df_02_diag = df_02.merge(DIQ_B.loc[DIQ_B.DIQ010 == 1, ['SEQN', 'DIQ010']], on=\"SEQN\")\n",
    "df_02_diag.shape"
   ]
  },
  {
   "cell_type": "code",
   "execution_count": 136,
   "metadata": {
    "collapsed": false
   },
   "outputs": [
    {
     "data": {
      "text/plain": [
       "(325, 15)"
      ]
     },
     "execution_count": 136,
     "metadata": {},
     "output_type": "execute_result"
    }
   ],
   "source": [
    "df_04_diag = df_04.merge(DIQ_C.loc[DIQ_C.DIQ010 == 1, ['SEQN', 'DIQ010']], on=\"SEQN\")\n",
    "df_04_diag.shape"
   ]
  },
  {
   "cell_type": "code",
   "execution_count": 137,
   "metadata": {
    "collapsed": false
   },
   "outputs": [
    {
     "data": {
      "text/plain": [
       "(911, 16)"
      ]
     },
     "execution_count": 137,
     "metadata": {},
     "output_type": "execute_result"
    }
   ],
   "source": [
    "diag_total = pd.concat([df_00_diag, df_02_diag, df_04_diag])\n",
    "diag_total.loc[:,'status'] = 'diag'\n",
    "diag_total.shape"
   ]
  },
  {
   "cell_type": "markdown",
   "metadata": {},
   "source": [
    "### Undiagnosed Diabetes (total should be 195) "
   ]
  },
  {
   "cell_type": "code",
   "execution_count": 138,
   "metadata": {
    "collapsed": false
   },
   "outputs": [
    {
     "data": {
      "text/plain": [
       "(39, 16)"
      ]
     },
     "execution_count": 138,
     "metadata": {},
     "output_type": "execute_result"
    }
   ],
   "source": [
    "df_00_undiag = df_00.merge(DIQ.loc[DIQ.DIQ010 == 2, ['SEQN', 'DIQ010']] \\\n",
    "                           .merge(LAB10AM.loc[LAB10AM.LBXGLU >= 126, ['SEQN', 'LBXGLU']], on='SEQN'), \n",
    "                       on='SEQN')\n",
    "df_00_undiag.shape"
   ]
  },
  {
   "cell_type": "code",
   "execution_count": 139,
   "metadata": {
    "collapsed": false
   },
   "outputs": [
    {
     "data": {
      "text/plain": [
       "(61, 16)"
      ]
     },
     "execution_count": 139,
     "metadata": {},
     "output_type": "execute_result"
    }
   ],
   "source": [
    "df_02_undiag = df_02.merge(DIQ_B.loc[DIQ_B.DIQ010 == 2, ['SEQN', 'DIQ010']] \\\n",
    "                           .merge(L10AM_B.loc[L10AM_B.LBXGLU >= 126, ['SEQN', 'LBXGLU']], on='SEQN'), \n",
    "                        on='SEQN')\n",
    "df_02_undiag.shape"
   ]
  },
  {
   "cell_type": "code",
   "execution_count": 140,
   "metadata": {
    "collapsed": false
   },
   "outputs": [
    {
     "data": {
      "text/plain": [
       "(38, 16)"
      ]
     },
     "execution_count": 140,
     "metadata": {},
     "output_type": "execute_result"
    }
   ],
   "source": [
    "df_04_undiag = df_04.merge(DIQ_C.loc[DIQ_C.DIQ010 == 2, ['SEQN', 'DIQ010']] \\\n",
    "                           .merge(L10AM_C.loc[L10AM_C.LBXGLU >= 126, ['SEQN', 'LBXGLU']], on='SEQN'), \n",
    "                        on='SEQN')\n",
    "df_04_undiag.shape"
   ]
  },
  {
   "cell_type": "code",
   "execution_count": 141,
   "metadata": {
    "collapsed": false
   },
   "outputs": [
    {
     "data": {
      "text/plain": [
       "(138, 17)"
      ]
     },
     "execution_count": 141,
     "metadata": {},
     "output_type": "execute_result"
    }
   ],
   "source": [
    "undiag_total = pd.concat([df_00_undiag, df_02_undiag, df_04_undiag])\n",
    "undiag_total.loc[:,'status'] = 'diag'\n",
    "undiag_total.shape"
   ]
  },
  {
   "cell_type": "markdown",
   "metadata": {},
   "source": [
    "### Pre-diabetes (total should be 1,576)"
   ]
  },
  {
   "cell_type": "code",
   "execution_count": 142,
   "metadata": {
    "collapsed": false
   },
   "outputs": [
    {
     "data": {
      "text/plain": [
       "(426, 15)"
      ]
     },
     "execution_count": 142,
     "metadata": {},
     "output_type": "execute_result"
    }
   ],
   "source": [
    "df_00_prediab = df_00.merge(LAB10AM.loc[(LAB10AM.LBXGLU >= 100) & (LAB10AM.LBXGLU <= 125), ['SEQN', 'LBXGLU']],\n",
    "                            on='SEQN')\n",
    "df_00_prediab.shape"
   ]
  },
  {
   "cell_type": "code",
   "execution_count": 143,
   "metadata": {
    "collapsed": false
   },
   "outputs": [
    {
     "data": {
      "text/plain": [
       "(554, 15)"
      ]
     },
     "execution_count": 143,
     "metadata": {},
     "output_type": "execute_result"
    }
   ],
   "source": [
    "df_02_prediab = df_02.merge(L10AM_B.loc[(L10AM_B.LBXGLU >= 100) & (L10AM_B.LBXGLU <= 125), ['SEQN', 'LBXGLU']],\n",
    "                         on='SEQN')\n",
    "df_02_prediab.shape"
   ]
  },
  {
   "cell_type": "code",
   "execution_count": 144,
   "metadata": {
    "collapsed": false
   },
   "outputs": [
    {
     "data": {
      "text/plain": [
       "(444, 15)"
      ]
     },
     "execution_count": 144,
     "metadata": {},
     "output_type": "execute_result"
    }
   ],
   "source": [
    "df_04_prediab = df_04.merge(L10AM_C.loc[(L10AM_C.LBXGLU >= 100) & (L10AM_C.LBXGLU <= 125), ['SEQN', 'LBXGLU']], \n",
    "                         on='SEQN')\n",
    "df_04_prediab.shape"
   ]
  },
  {
   "cell_type": "code",
   "execution_count": 145,
   "metadata": {
    "collapsed": false
   },
   "outputs": [
    {
     "data": {
      "text/plain": [
       "(1424, 16)"
      ]
     },
     "execution_count": 145,
     "metadata": {},
     "output_type": "execute_result"
    }
   ],
   "source": [
    "prediab_total = pd.concat([df_00_prediab, df_02_prediab, df_04_prediab])\n",
    "prediab_total.loc[:,'status'] = 'nodiab'\n",
    "prediab_total.shape"
   ]
  },
  {
   "cell_type": "markdown",
   "metadata": {},
   "source": [
    "### No Diabetes (total should be 3,277)"
   ]
  },
  {
   "cell_type": "code",
   "execution_count": 146,
   "metadata": {
    "collapsed": false
   },
   "outputs": [
    {
     "data": {
      "text/plain": [
       "(966, 15)"
      ]
     },
     "execution_count": 146,
     "metadata": {},
     "output_type": "execute_result"
    }
   ],
   "source": [
    "df_00_nodiab = df_00.merge(LAB10AM.loc[LAB10AM.LBXGLU < 100, ['SEQN', 'LBXGLU']], \n",
    "                           on='SEQN')\n",
    "df_00_nodiab.shape"
   ]
  },
  {
   "cell_type": "code",
   "execution_count": 147,
   "metadata": {
    "collapsed": false
   },
   "outputs": [
    {
     "data": {
      "text/plain": [
       "(1077, 15)"
      ]
     },
     "execution_count": 147,
     "metadata": {},
     "output_type": "execute_result"
    }
   ],
   "source": [
    "df_02_nodiab = df_02.merge(L10AM_B.loc[L10AM_B.LBXGLU < 100, ['SEQN', 'LBXGLU']],\n",
    "                           on='SEQN')\n",
    "df_02_nodiab.shape"
   ]
  },
  {
   "cell_type": "code",
   "execution_count": 148,
   "metadata": {
    "collapsed": false
   },
   "outputs": [
    {
     "data": {
      "text/plain": [
       "(999, 15)"
      ]
     },
     "execution_count": 148,
     "metadata": {},
     "output_type": "execute_result"
    }
   ],
   "source": [
    "df_04_nodiab = df_04.merge(L10AM_C.loc[L10AM_C.LBXGLU < 100, ['SEQN', 'LBXGLU']],\n",
    "                           on='SEQN')\n",
    "df_04_nodiab.shape"
   ]
  },
  {
   "cell_type": "code",
   "execution_count": 149,
   "metadata": {
    "collapsed": false
   },
   "outputs": [
    {
     "data": {
      "text/plain": [
       "(3042, 16)"
      ]
     },
     "execution_count": 149,
     "metadata": {},
     "output_type": "execute_result"
    }
   ],
   "source": [
    "nodiab_total = pd.concat([df_00_nodiab, df_02_nodiab, df_04_nodiab])\n",
    "nodiab_total.loc[:,'status'] = 'nodiab'\n",
    "nodiab_total.shape"
   ]
  },
  {
   "cell_type": "markdown",
   "metadata": {},
   "source": [
    "### Join everything"
   ]
  },
  {
   "cell_type": "code",
   "execution_count": 150,
   "metadata": {
    "collapsed": false
   },
   "outputs": [
    {
     "data": {
      "text/plain": [
       "(5515, 17)"
      ]
     },
     "execution_count": 150,
     "metadata": {},
     "output_type": "execute_result"
    }
   ],
   "source": [
    "df = pd.concat([diag_total, undiag_total, prediab_total, nodiab_total], ignore_index=True)\n",
    "df.shape"
   ]
  },
  {
   "cell_type": "code",
   "execution_count": 151,
   "metadata": {
    "collapsed": false
   },
   "outputs": [
    {
     "data": {
      "text/html": [
       "<div>\n",
       "<table border=\"1\" class=\"dataframe\">\n",
       "  <thead>\n",
       "    <tr style=\"text-align: right;\">\n",
       "      <th></th>\n",
       "      <th>ALQ110</th>\n",
       "      <th>BMXBMI</th>\n",
       "      <th>BMXHT</th>\n",
       "      <th>BMXWAIST</th>\n",
       "      <th>BPQ020</th>\n",
       "      <th>DIQ010</th>\n",
       "      <th>DMDEDUC2</th>\n",
       "      <th>INDHHINC</th>\n",
       "      <th>LBXGLU</th>\n",
       "      <th>MCQ250A</th>\n",
       "      <th>PAQ180</th>\n",
       "      <th>RIAGENDR</th>\n",
       "      <th>RIDAGEYR</th>\n",
       "      <th>RIDRETH1</th>\n",
       "      <th>SEQN</th>\n",
       "      <th>WTINT2YR</th>\n",
       "      <th>status</th>\n",
       "    </tr>\n",
       "  </thead>\n",
       "  <tbody>\n",
       "    <tr>\n",
       "      <th>0</th>\n",
       "      <td>NaN</td>\n",
       "      <td>25.57</td>\n",
       "      <td>157.7</td>\n",
       "      <td>NaN</td>\n",
       "      <td>1</td>\n",
       "      <td>1</td>\n",
       "      <td>1</td>\n",
       "      <td>3</td>\n",
       "      <td>NaN</td>\n",
       "      <td>1</td>\n",
       "      <td>1</td>\n",
       "      <td>1</td>\n",
       "      <td>70</td>\n",
       "      <td>1</td>\n",
       "      <td>13</td>\n",
       "      <td>1647.446107</td>\n",
       "      <td>diag</td>\n",
       "    </tr>\n",
       "    <tr>\n",
       "      <th>1</th>\n",
       "      <td>NaN</td>\n",
       "      <td>36.94</td>\n",
       "      <td>174.9</td>\n",
       "      <td>130.6</td>\n",
       "      <td>1</td>\n",
       "      <td>1</td>\n",
       "      <td>3</td>\n",
       "      <td>3</td>\n",
       "      <td>NaN</td>\n",
       "      <td>1</td>\n",
       "      <td>1</td>\n",
       "      <td>1</td>\n",
       "      <td>62</td>\n",
       "      <td>3</td>\n",
       "      <td>29</td>\n",
       "      <td>42515.710172</td>\n",
       "      <td>diag</td>\n",
       "    </tr>\n",
       "    <tr>\n",
       "      <th>2</th>\n",
       "      <td>1</td>\n",
       "      <td>26.17</td>\n",
       "      <td>171.1</td>\n",
       "      <td>94.9</td>\n",
       "      <td>2</td>\n",
       "      <td>1</td>\n",
       "      <td>2</td>\n",
       "      <td>6</td>\n",
       "      <td>NaN</td>\n",
       "      <td>1</td>\n",
       "      <td>4</td>\n",
       "      <td>1</td>\n",
       "      <td>59</td>\n",
       "      <td>3</td>\n",
       "      <td>130</td>\n",
       "      <td>70420.818338</td>\n",
       "      <td>diag</td>\n",
       "    </tr>\n",
       "    <tr>\n",
       "      <th>3</th>\n",
       "      <td>NaN</td>\n",
       "      <td>29.51</td>\n",
       "      <td>168.3</td>\n",
       "      <td>110.6</td>\n",
       "      <td>2</td>\n",
       "      <td>1</td>\n",
       "      <td>3</td>\n",
       "      <td>3</td>\n",
       "      <td>NaN</td>\n",
       "      <td>9</td>\n",
       "      <td>1</td>\n",
       "      <td>1</td>\n",
       "      <td>82</td>\n",
       "      <td>4</td>\n",
       "      <td>266</td>\n",
       "      <td>6916.692889</td>\n",
       "      <td>diag</td>\n",
       "    </tr>\n",
       "    <tr>\n",
       "      <th>4</th>\n",
       "      <td>NaN</td>\n",
       "      <td>22.36</td>\n",
       "      <td>169.3</td>\n",
       "      <td>91.3</td>\n",
       "      <td>2</td>\n",
       "      <td>1</td>\n",
       "      <td>4</td>\n",
       "      <td>6</td>\n",
       "      <td>NaN</td>\n",
       "      <td>1</td>\n",
       "      <td>3</td>\n",
       "      <td>1</td>\n",
       "      <td>56</td>\n",
       "      <td>3</td>\n",
       "      <td>272</td>\n",
       "      <td>95894.532170</td>\n",
       "      <td>diag</td>\n",
       "    </tr>\n",
       "    <tr>\n",
       "      <th>5</th>\n",
       "      <td>NaN</td>\n",
       "      <td>NaN</td>\n",
       "      <td>NaN</td>\n",
       "      <td>NaN</td>\n",
       "      <td>2</td>\n",
       "      <td>1</td>\n",
       "      <td>1</td>\n",
       "      <td>12</td>\n",
       "      <td>NaN</td>\n",
       "      <td>2</td>\n",
       "      <td>1</td>\n",
       "      <td>1</td>\n",
       "      <td>85</td>\n",
       "      <td>3</td>\n",
       "      <td>360</td>\n",
       "      <td>14909.266504</td>\n",
       "      <td>diag</td>\n",
       "    </tr>\n",
       "    <tr>\n",
       "      <th>6</th>\n",
       "      <td>NaN</td>\n",
       "      <td>27.92</td>\n",
       "      <td>168.0</td>\n",
       "      <td>93.9</td>\n",
       "      <td>2</td>\n",
       "      <td>1</td>\n",
       "      <td>4</td>\n",
       "      <td>11</td>\n",
       "      <td>NaN</td>\n",
       "      <td>1</td>\n",
       "      <td>1</td>\n",
       "      <td>2</td>\n",
       "      <td>45</td>\n",
       "      <td>1</td>\n",
       "      <td>535</td>\n",
       "      <td>8838.541093</td>\n",
       "      <td>diag</td>\n",
       "    </tr>\n",
       "    <tr>\n",
       "      <th>7</th>\n",
       "      <td>2</td>\n",
       "      <td>35.92</td>\n",
       "      <td>175.4</td>\n",
       "      <td>121.7</td>\n",
       "      <td>2</td>\n",
       "      <td>1</td>\n",
       "      <td>3</td>\n",
       "      <td>8</td>\n",
       "      <td>NaN</td>\n",
       "      <td>2</td>\n",
       "      <td>2</td>\n",
       "      <td>1</td>\n",
       "      <td>69</td>\n",
       "      <td>3</td>\n",
       "      <td>655</td>\n",
       "      <td>54098.536194</td>\n",
       "      <td>diag</td>\n",
       "    </tr>\n",
       "    <tr>\n",
       "      <th>8</th>\n",
       "      <td>NaN</td>\n",
       "      <td>23.43</td>\n",
       "      <td>170.0</td>\n",
       "      <td>89.0</td>\n",
       "      <td>2</td>\n",
       "      <td>1</td>\n",
       "      <td>4</td>\n",
       "      <td>6</td>\n",
       "      <td>NaN</td>\n",
       "      <td>1</td>\n",
       "      <td>1</td>\n",
       "      <td>2</td>\n",
       "      <td>45</td>\n",
       "      <td>4</td>\n",
       "      <td>675</td>\n",
       "      <td>19519.870942</td>\n",
       "      <td>diag</td>\n",
       "    </tr>\n",
       "    <tr>\n",
       "      <th>9</th>\n",
       "      <td>NaN</td>\n",
       "      <td>37.07</td>\n",
       "      <td>170.3</td>\n",
       "      <td>121.1</td>\n",
       "      <td>2</td>\n",
       "      <td>1</td>\n",
       "      <td>4</td>\n",
       "      <td>8</td>\n",
       "      <td>NaN</td>\n",
       "      <td>2</td>\n",
       "      <td>2</td>\n",
       "      <td>1</td>\n",
       "      <td>48</td>\n",
       "      <td>1</td>\n",
       "      <td>681</td>\n",
       "      <td>25770.424595</td>\n",
       "      <td>diag</td>\n",
       "    </tr>\n",
       "    <tr>\n",
       "      <th>10</th>\n",
       "      <td>NaN</td>\n",
       "      <td>26.10</td>\n",
       "      <td>168.6</td>\n",
       "      <td>95.4</td>\n",
       "      <td>2</td>\n",
       "      <td>1</td>\n",
       "      <td>3</td>\n",
       "      <td>3</td>\n",
       "      <td>NaN</td>\n",
       "      <td>1</td>\n",
       "      <td>2</td>\n",
       "      <td>1</td>\n",
       "      <td>59</td>\n",
       "      <td>1</td>\n",
       "      <td>695</td>\n",
       "      <td>10948.407356</td>\n",
       "      <td>diag</td>\n",
       "    </tr>\n",
       "    <tr>\n",
       "      <th>11</th>\n",
       "      <td>NaN</td>\n",
       "      <td>38.56</td>\n",
       "      <td>174.2</td>\n",
       "      <td>126.5</td>\n",
       "      <td>2</td>\n",
       "      <td>1</td>\n",
       "      <td>4</td>\n",
       "      <td>NaN</td>\n",
       "      <td>NaN</td>\n",
       "      <td>1</td>\n",
       "      <td>2</td>\n",
       "      <td>2</td>\n",
       "      <td>32</td>\n",
       "      <td>4</td>\n",
       "      <td>701</td>\n",
       "      <td>34002.146073</td>\n",
       "      <td>diag</td>\n",
       "    </tr>\n",
       "    <tr>\n",
       "      <th>12</th>\n",
       "      <td>NaN</td>\n",
       "      <td>30.68</td>\n",
       "      <td>170.6</td>\n",
       "      <td>104.6</td>\n",
       "      <td>1</td>\n",
       "      <td>1</td>\n",
       "      <td>4</td>\n",
       "      <td>5</td>\n",
       "      <td>NaN</td>\n",
       "      <td>2</td>\n",
       "      <td>1</td>\n",
       "      <td>1</td>\n",
       "      <td>73</td>\n",
       "      <td>3</td>\n",
       "      <td>925</td>\n",
       "      <td>33738.592673</td>\n",
       "      <td>diag</td>\n",
       "    </tr>\n",
       "    <tr>\n",
       "      <th>13</th>\n",
       "      <td>1</td>\n",
       "      <td>25.61</td>\n",
       "      <td>178.5</td>\n",
       "      <td>104.2</td>\n",
       "      <td>1</td>\n",
       "      <td>1</td>\n",
       "      <td>4</td>\n",
       "      <td>3</td>\n",
       "      <td>NaN</td>\n",
       "      <td>1</td>\n",
       "      <td>2</td>\n",
       "      <td>1</td>\n",
       "      <td>78</td>\n",
       "      <td>3</td>\n",
       "      <td>943</td>\n",
       "      <td>21546.985228</td>\n",
       "      <td>diag</td>\n",
       "    </tr>\n",
       "    <tr>\n",
       "      <th>14</th>\n",
       "      <td>NaN</td>\n",
       "      <td>23.31</td>\n",
       "      <td>169.9</td>\n",
       "      <td>88.0</td>\n",
       "      <td>1</td>\n",
       "      <td>1</td>\n",
       "      <td>2</td>\n",
       "      <td>NaN</td>\n",
       "      <td>NaN</td>\n",
       "      <td>2</td>\n",
       "      <td>1</td>\n",
       "      <td>1</td>\n",
       "      <td>80</td>\n",
       "      <td>1</td>\n",
       "      <td>963</td>\n",
       "      <td>1781.576942</td>\n",
       "      <td>diag</td>\n",
       "    </tr>\n",
       "    <tr>\n",
       "      <th>15</th>\n",
       "      <td>NaN</td>\n",
       "      <td>23.92</td>\n",
       "      <td>178.0</td>\n",
       "      <td>96.4</td>\n",
       "      <td>1</td>\n",
       "      <td>1</td>\n",
       "      <td>2</td>\n",
       "      <td>NaN</td>\n",
       "      <td>NaN</td>\n",
       "      <td>1</td>\n",
       "      <td>2</td>\n",
       "      <td>1</td>\n",
       "      <td>72</td>\n",
       "      <td>4</td>\n",
       "      <td>968</td>\n",
       "      <td>12082.861586</td>\n",
       "      <td>diag</td>\n",
       "    </tr>\n",
       "    <tr>\n",
       "      <th>16</th>\n",
       "      <td>NaN</td>\n",
       "      <td>38.45</td>\n",
       "      <td>165.8</td>\n",
       "      <td>117.5</td>\n",
       "      <td>1</td>\n",
       "      <td>1</td>\n",
       "      <td>3</td>\n",
       "      <td>6</td>\n",
       "      <td>NaN</td>\n",
       "      <td>1</td>\n",
       "      <td>3</td>\n",
       "      <td>2</td>\n",
       "      <td>26</td>\n",
       "      <td>4</td>\n",
       "      <td>971</td>\n",
       "      <td>31342.016622</td>\n",
       "      <td>diag</td>\n",
       "    </tr>\n",
       "    <tr>\n",
       "      <th>17</th>\n",
       "      <td>1</td>\n",
       "      <td>19.90</td>\n",
       "      <td>169.4</td>\n",
       "      <td>85.6</td>\n",
       "      <td>1</td>\n",
       "      <td>1</td>\n",
       "      <td>1</td>\n",
       "      <td>5</td>\n",
       "      <td>NaN</td>\n",
       "      <td>2</td>\n",
       "      <td>2</td>\n",
       "      <td>1</td>\n",
       "      <td>79</td>\n",
       "      <td>4</td>\n",
       "      <td>972</td>\n",
       "      <td>8645.535432</td>\n",
       "      <td>diag</td>\n",
       "    </tr>\n",
       "    <tr>\n",
       "      <th>18</th>\n",
       "      <td>NaN</td>\n",
       "      <td>28.96</td>\n",
       "      <td>170.5</td>\n",
       "      <td>106.2</td>\n",
       "      <td>1</td>\n",
       "      <td>1</td>\n",
       "      <td>1</td>\n",
       "      <td>NaN</td>\n",
       "      <td>NaN</td>\n",
       "      <td>2</td>\n",
       "      <td>1</td>\n",
       "      <td>1</td>\n",
       "      <td>64</td>\n",
       "      <td>2</td>\n",
       "      <td>999</td>\n",
       "      <td>23151.923319</td>\n",
       "      <td>diag</td>\n",
       "    </tr>\n",
       "    <tr>\n",
       "      <th>19</th>\n",
       "      <td>NaN</td>\n",
       "      <td>24.11</td>\n",
       "      <td>169.8</td>\n",
       "      <td>95.7</td>\n",
       "      <td>1</td>\n",
       "      <td>1</td>\n",
       "      <td>1</td>\n",
       "      <td>2</td>\n",
       "      <td>NaN</td>\n",
       "      <td>2</td>\n",
       "      <td>2</td>\n",
       "      <td>1</td>\n",
       "      <td>65</td>\n",
       "      <td>4</td>\n",
       "      <td>1031</td>\n",
       "      <td>10519.561331</td>\n",
       "      <td>diag</td>\n",
       "    </tr>\n",
       "    <tr>\n",
       "      <th>20</th>\n",
       "      <td>NaN</td>\n",
       "      <td>23.69</td>\n",
       "      <td>165.5</td>\n",
       "      <td>91.9</td>\n",
       "      <td>1</td>\n",
       "      <td>1</td>\n",
       "      <td>2</td>\n",
       "      <td>3</td>\n",
       "      <td>NaN</td>\n",
       "      <td>1</td>\n",
       "      <td>1</td>\n",
       "      <td>2</td>\n",
       "      <td>48</td>\n",
       "      <td>4</td>\n",
       "      <td>1150</td>\n",
       "      <td>38097.545924</td>\n",
       "      <td>diag</td>\n",
       "    </tr>\n",
       "    <tr>\n",
       "      <th>21</th>\n",
       "      <td>2</td>\n",
       "      <td>31.43</td>\n",
       "      <td>148.6</td>\n",
       "      <td>94.5</td>\n",
       "      <td>1</td>\n",
       "      <td>1</td>\n",
       "      <td>1</td>\n",
       "      <td>1</td>\n",
       "      <td>NaN</td>\n",
       "      <td>1</td>\n",
       "      <td>2</td>\n",
       "      <td>2</td>\n",
       "      <td>46</td>\n",
       "      <td>1</td>\n",
       "      <td>1163</td>\n",
       "      <td>6223.858446</td>\n",
       "      <td>diag</td>\n",
       "    </tr>\n",
       "    <tr>\n",
       "      <th>22</th>\n",
       "      <td>NaN</td>\n",
       "      <td>32.41</td>\n",
       "      <td>174.5</td>\n",
       "      <td>110.2</td>\n",
       "      <td>2</td>\n",
       "      <td>1</td>\n",
       "      <td>4</td>\n",
       "      <td>7</td>\n",
       "      <td>NaN</td>\n",
       "      <td>1</td>\n",
       "      <td>2</td>\n",
       "      <td>1</td>\n",
       "      <td>62</td>\n",
       "      <td>1</td>\n",
       "      <td>1171</td>\n",
       "      <td>2376.246902</td>\n",
       "      <td>diag</td>\n",
       "    </tr>\n",
       "    <tr>\n",
       "      <th>23</th>\n",
       "      <td>NaN</td>\n",
       "      <td>39.03</td>\n",
       "      <td>176.0</td>\n",
       "      <td>134.2</td>\n",
       "      <td>2</td>\n",
       "      <td>1</td>\n",
       "      <td>2</td>\n",
       "      <td>2</td>\n",
       "      <td>NaN</td>\n",
       "      <td>9</td>\n",
       "      <td>1</td>\n",
       "      <td>1</td>\n",
       "      <td>68</td>\n",
       "      <td>4</td>\n",
       "      <td>1173</td>\n",
       "      <td>8986.031938</td>\n",
       "      <td>diag</td>\n",
       "    </tr>\n",
       "    <tr>\n",
       "      <th>24</th>\n",
       "      <td>NaN</td>\n",
       "      <td>26.94</td>\n",
       "      <td>176.2</td>\n",
       "      <td>93.6</td>\n",
       "      <td>2</td>\n",
       "      <td>1</td>\n",
       "      <td>5</td>\n",
       "      <td>9</td>\n",
       "      <td>NaN</td>\n",
       "      <td>1</td>\n",
       "      <td>3</td>\n",
       "      <td>1</td>\n",
       "      <td>60</td>\n",
       "      <td>3</td>\n",
       "      <td>1226</td>\n",
       "      <td>46199.882860</td>\n",
       "      <td>diag</td>\n",
       "    </tr>\n",
       "    <tr>\n",
       "      <th>25</th>\n",
       "      <td>2</td>\n",
       "      <td>33.61</td>\n",
       "      <td>157.8</td>\n",
       "      <td>105.8</td>\n",
       "      <td>2</td>\n",
       "      <td>1</td>\n",
       "      <td>4</td>\n",
       "      <td>11</td>\n",
       "      <td>NaN</td>\n",
       "      <td>1</td>\n",
       "      <td>1</td>\n",
       "      <td>2</td>\n",
       "      <td>45</td>\n",
       "      <td>1</td>\n",
       "      <td>1243</td>\n",
       "      <td>10230.614605</td>\n",
       "      <td>diag</td>\n",
       "    </tr>\n",
       "    <tr>\n",
       "      <th>26</th>\n",
       "      <td>1</td>\n",
       "      <td>31.77</td>\n",
       "      <td>157.0</td>\n",
       "      <td>94.6</td>\n",
       "      <td>2</td>\n",
       "      <td>1</td>\n",
       "      <td>4</td>\n",
       "      <td>7</td>\n",
       "      <td>NaN</td>\n",
       "      <td>9</td>\n",
       "      <td>2</td>\n",
       "      <td>2</td>\n",
       "      <td>40</td>\n",
       "      <td>4</td>\n",
       "      <td>1264</td>\n",
       "      <td>20897.604392</td>\n",
       "      <td>diag</td>\n",
       "    </tr>\n",
       "    <tr>\n",
       "      <th>27</th>\n",
       "      <td>NaN</td>\n",
       "      <td>27.30</td>\n",
       "      <td>154.9</td>\n",
       "      <td>103.1</td>\n",
       "      <td>2</td>\n",
       "      <td>1</td>\n",
       "      <td>4</td>\n",
       "      <td>2</td>\n",
       "      <td>NaN</td>\n",
       "      <td>9</td>\n",
       "      <td>1</td>\n",
       "      <td>1</td>\n",
       "      <td>72</td>\n",
       "      <td>3</td>\n",
       "      <td>1279</td>\n",
       "      <td>10885.794482</td>\n",
       "      <td>diag</td>\n",
       "    </tr>\n",
       "    <tr>\n",
       "      <th>28</th>\n",
       "      <td>NaN</td>\n",
       "      <td>30.27</td>\n",
       "      <td>173.9</td>\n",
       "      <td>113.7</td>\n",
       "      <td>2</td>\n",
       "      <td>1</td>\n",
       "      <td>5</td>\n",
       "      <td>8</td>\n",
       "      <td>NaN</td>\n",
       "      <td>2</td>\n",
       "      <td>2</td>\n",
       "      <td>1</td>\n",
       "      <td>54</td>\n",
       "      <td>3</td>\n",
       "      <td>1328</td>\n",
       "      <td>70771.442734</td>\n",
       "      <td>diag</td>\n",
       "    </tr>\n",
       "    <tr>\n",
       "      <th>29</th>\n",
       "      <td>1</td>\n",
       "      <td>24.85</td>\n",
       "      <td>175.0</td>\n",
       "      <td>90.9</td>\n",
       "      <td>2</td>\n",
       "      <td>1</td>\n",
       "      <td>3</td>\n",
       "      <td>9</td>\n",
       "      <td>NaN</td>\n",
       "      <td>1</td>\n",
       "      <td>4</td>\n",
       "      <td>1</td>\n",
       "      <td>67</td>\n",
       "      <td>3</td>\n",
       "      <td>1352</td>\n",
       "      <td>53318.307848</td>\n",
       "      <td>diag</td>\n",
       "    </tr>\n",
       "    <tr>\n",
       "      <th>...</th>\n",
       "      <td>...</td>\n",
       "      <td>...</td>\n",
       "      <td>...</td>\n",
       "      <td>...</td>\n",
       "      <td>...</td>\n",
       "      <td>...</td>\n",
       "      <td>...</td>\n",
       "      <td>...</td>\n",
       "      <td>...</td>\n",
       "      <td>...</td>\n",
       "      <td>...</td>\n",
       "      <td>...</td>\n",
       "      <td>...</td>\n",
       "      <td>...</td>\n",
       "      <td>...</td>\n",
       "      <td>...</td>\n",
       "      <td>...</td>\n",
       "    </tr>\n",
       "    <tr>\n",
       "      <th>5485</th>\n",
       "      <td>NaN</td>\n",
       "      <td>23.96</td>\n",
       "      <td>171.9</td>\n",
       "      <td>82.5</td>\n",
       "      <td>2</td>\n",
       "      <td>NaN</td>\n",
       "      <td>3</td>\n",
       "      <td>6</td>\n",
       "      <td>74.5</td>\n",
       "      <td>2</td>\n",
       "      <td>1</td>\n",
       "      <td>2</td>\n",
       "      <td>39</td>\n",
       "      <td>4</td>\n",
       "      <td>30843</td>\n",
       "      <td>33102.647144</td>\n",
       "      <td>nodiab</td>\n",
       "    </tr>\n",
       "    <tr>\n",
       "      <th>5486</th>\n",
       "      <td>1</td>\n",
       "      <td>32.87</td>\n",
       "      <td>165.1</td>\n",
       "      <td>103.0</td>\n",
       "      <td>1</td>\n",
       "      <td>NaN</td>\n",
       "      <td>5</td>\n",
       "      <td>8</td>\n",
       "      <td>94.9</td>\n",
       "      <td>2</td>\n",
       "      <td>2</td>\n",
       "      <td>2</td>\n",
       "      <td>45</td>\n",
       "      <td>4</td>\n",
       "      <td>30846</td>\n",
       "      <td>29112.518471</td>\n",
       "      <td>nodiab</td>\n",
       "    </tr>\n",
       "    <tr>\n",
       "      <th>5487</th>\n",
       "      <td>NaN</td>\n",
       "      <td>18.32</td>\n",
       "      <td>168.3</td>\n",
       "      <td>70.3</td>\n",
       "      <td>2</td>\n",
       "      <td>NaN</td>\n",
       "      <td>5</td>\n",
       "      <td>10</td>\n",
       "      <td>93.2</td>\n",
       "      <td>2</td>\n",
       "      <td>2</td>\n",
       "      <td>2</td>\n",
       "      <td>33</td>\n",
       "      <td>3</td>\n",
       "      <td>30862</td>\n",
       "      <td>72645.671949</td>\n",
       "      <td>nodiab</td>\n",
       "    </tr>\n",
       "    <tr>\n",
       "      <th>5488</th>\n",
       "      <td>1</td>\n",
       "      <td>24.06</td>\n",
       "      <td>160.8</td>\n",
       "      <td>84.1</td>\n",
       "      <td>2</td>\n",
       "      <td>NaN</td>\n",
       "      <td>5</td>\n",
       "      <td>11</td>\n",
       "      <td>84.7</td>\n",
       "      <td>2</td>\n",
       "      <td>2</td>\n",
       "      <td>2</td>\n",
       "      <td>35</td>\n",
       "      <td>5</td>\n",
       "      <td>30868</td>\n",
       "      <td>79904.139390</td>\n",
       "      <td>nodiab</td>\n",
       "    </tr>\n",
       "    <tr>\n",
       "      <th>5489</th>\n",
       "      <td>NaN</td>\n",
       "      <td>27.22</td>\n",
       "      <td>167.2</td>\n",
       "      <td>96.0</td>\n",
       "      <td>1</td>\n",
       "      <td>NaN</td>\n",
       "      <td>5</td>\n",
       "      <td>7</td>\n",
       "      <td>95.3</td>\n",
       "      <td>2</td>\n",
       "      <td>2</td>\n",
       "      <td>1</td>\n",
       "      <td>82</td>\n",
       "      <td>3</td>\n",
       "      <td>30890</td>\n",
       "      <td>19194.078253</td>\n",
       "      <td>nodiab</td>\n",
       "    </tr>\n",
       "    <tr>\n",
       "      <th>5490</th>\n",
       "      <td>NaN</td>\n",
       "      <td>25.12</td>\n",
       "      <td>160.0</td>\n",
       "      <td>98.4</td>\n",
       "      <td>2</td>\n",
       "      <td>NaN</td>\n",
       "      <td>1</td>\n",
       "      <td>99</td>\n",
       "      <td>97.9</td>\n",
       "      <td>1</td>\n",
       "      <td>1</td>\n",
       "      <td>1</td>\n",
       "      <td>72</td>\n",
       "      <td>1</td>\n",
       "      <td>30907</td>\n",
       "      <td>3758.795022</td>\n",
       "      <td>nodiab</td>\n",
       "    </tr>\n",
       "    <tr>\n",
       "      <th>5491</th>\n",
       "      <td>NaN</td>\n",
       "      <td>21.47</td>\n",
       "      <td>170.6</td>\n",
       "      <td>81.9</td>\n",
       "      <td>2</td>\n",
       "      <td>NaN</td>\n",
       "      <td>2</td>\n",
       "      <td>NaN</td>\n",
       "      <td>90.0</td>\n",
       "      <td>2</td>\n",
       "      <td>2</td>\n",
       "      <td>2</td>\n",
       "      <td>43</td>\n",
       "      <td>3</td>\n",
       "      <td>30911</td>\n",
       "      <td>45823.441813</td>\n",
       "      <td>nodiab</td>\n",
       "    </tr>\n",
       "    <tr>\n",
       "      <th>5492</th>\n",
       "      <td>NaN</td>\n",
       "      <td>22.80</td>\n",
       "      <td>173.7</td>\n",
       "      <td>90.7</td>\n",
       "      <td>2</td>\n",
       "      <td>NaN</td>\n",
       "      <td>4</td>\n",
       "      <td>7</td>\n",
       "      <td>92.8</td>\n",
       "      <td>1</td>\n",
       "      <td>2</td>\n",
       "      <td>2</td>\n",
       "      <td>54</td>\n",
       "      <td>3</td>\n",
       "      <td>30915</td>\n",
       "      <td>78406.810577</td>\n",
       "      <td>nodiab</td>\n",
       "    </tr>\n",
       "    <tr>\n",
       "      <th>5493</th>\n",
       "      <td>NaN</td>\n",
       "      <td>17.84</td>\n",
       "      <td>181.7</td>\n",
       "      <td>69.1</td>\n",
       "      <td>2</td>\n",
       "      <td>NaN</td>\n",
       "      <td>2</td>\n",
       "      <td>6</td>\n",
       "      <td>85.0</td>\n",
       "      <td>1</td>\n",
       "      <td>1</td>\n",
       "      <td>1</td>\n",
       "      <td>20</td>\n",
       "      <td>4</td>\n",
       "      <td>30917</td>\n",
       "      <td>20554.304715</td>\n",
       "      <td>nodiab</td>\n",
       "    </tr>\n",
       "    <tr>\n",
       "      <th>5494</th>\n",
       "      <td>NaN</td>\n",
       "      <td>26.60</td>\n",
       "      <td>176.0</td>\n",
       "      <td>83.4</td>\n",
       "      <td>2</td>\n",
       "      <td>NaN</td>\n",
       "      <td>2</td>\n",
       "      <td>7</td>\n",
       "      <td>95.3</td>\n",
       "      <td>1</td>\n",
       "      <td>2</td>\n",
       "      <td>1</td>\n",
       "      <td>20</td>\n",
       "      <td>4</td>\n",
       "      <td>30925</td>\n",
       "      <td>23090.402645</td>\n",
       "      <td>nodiab</td>\n",
       "    </tr>\n",
       "    <tr>\n",
       "      <th>5495</th>\n",
       "      <td>NaN</td>\n",
       "      <td>35.53</td>\n",
       "      <td>156.3</td>\n",
       "      <td>106.5</td>\n",
       "      <td>2</td>\n",
       "      <td>NaN</td>\n",
       "      <td>4</td>\n",
       "      <td>6</td>\n",
       "      <td>83.8</td>\n",
       "      <td>1</td>\n",
       "      <td>2</td>\n",
       "      <td>2</td>\n",
       "      <td>28</td>\n",
       "      <td>4</td>\n",
       "      <td>30928</td>\n",
       "      <td>37318.672675</td>\n",
       "      <td>nodiab</td>\n",
       "    </tr>\n",
       "    <tr>\n",
       "      <th>5496</th>\n",
       "      <td>NaN</td>\n",
       "      <td>21.02</td>\n",
       "      <td>171.2</td>\n",
       "      <td>78.7</td>\n",
       "      <td>2</td>\n",
       "      <td>NaN</td>\n",
       "      <td>2</td>\n",
       "      <td>6</td>\n",
       "      <td>89.1</td>\n",
       "      <td>2</td>\n",
       "      <td>3</td>\n",
       "      <td>2</td>\n",
       "      <td>36</td>\n",
       "      <td>3</td>\n",
       "      <td>30947</td>\n",
       "      <td>72432.098302</td>\n",
       "      <td>nodiab</td>\n",
       "    </tr>\n",
       "    <tr>\n",
       "      <th>5497</th>\n",
       "      <td>NaN</td>\n",
       "      <td>24.70</td>\n",
       "      <td>166.9</td>\n",
       "      <td>84.0</td>\n",
       "      <td>2</td>\n",
       "      <td>NaN</td>\n",
       "      <td>3</td>\n",
       "      <td>3</td>\n",
       "      <td>98.4</td>\n",
       "      <td>2</td>\n",
       "      <td>3</td>\n",
       "      <td>1</td>\n",
       "      <td>35</td>\n",
       "      <td>2</td>\n",
       "      <td>30955</td>\n",
       "      <td>32495.235985</td>\n",
       "      <td>nodiab</td>\n",
       "    </tr>\n",
       "    <tr>\n",
       "      <th>5498</th>\n",
       "      <td>NaN</td>\n",
       "      <td>36.75</td>\n",
       "      <td>174.5</td>\n",
       "      <td>122.4</td>\n",
       "      <td>2</td>\n",
       "      <td>NaN</td>\n",
       "      <td>1</td>\n",
       "      <td>4</td>\n",
       "      <td>97.5</td>\n",
       "      <td>2</td>\n",
       "      <td>2</td>\n",
       "      <td>1</td>\n",
       "      <td>55</td>\n",
       "      <td>1</td>\n",
       "      <td>30959</td>\n",
       "      <td>16910.374274</td>\n",
       "      <td>nodiab</td>\n",
       "    </tr>\n",
       "    <tr>\n",
       "      <th>5499</th>\n",
       "      <td>1</td>\n",
       "      <td>28.45</td>\n",
       "      <td>171.2</td>\n",
       "      <td>101.7</td>\n",
       "      <td>1</td>\n",
       "      <td>NaN</td>\n",
       "      <td>4</td>\n",
       "      <td>10</td>\n",
       "      <td>90.8</td>\n",
       "      <td>2</td>\n",
       "      <td>3</td>\n",
       "      <td>1</td>\n",
       "      <td>68</td>\n",
       "      <td>4</td>\n",
       "      <td>30976</td>\n",
       "      <td>11775.000208</td>\n",
       "      <td>nodiab</td>\n",
       "    </tr>\n",
       "    <tr>\n",
       "      <th>5500</th>\n",
       "      <td>NaN</td>\n",
       "      <td>21.79</td>\n",
       "      <td>180.4</td>\n",
       "      <td>81.5</td>\n",
       "      <td>NaN</td>\n",
       "      <td>NaN</td>\n",
       "      <td>5</td>\n",
       "      <td>2</td>\n",
       "      <td>90.2</td>\n",
       "      <td>2</td>\n",
       "      <td>2</td>\n",
       "      <td>1</td>\n",
       "      <td>23</td>\n",
       "      <td>3</td>\n",
       "      <td>30987</td>\n",
       "      <td>30941.533268</td>\n",
       "      <td>nodiab</td>\n",
       "    </tr>\n",
       "    <tr>\n",
       "      <th>5501</th>\n",
       "      <td>NaN</td>\n",
       "      <td>24.01</td>\n",
       "      <td>174.6</td>\n",
       "      <td>93.9</td>\n",
       "      <td>2</td>\n",
       "      <td>NaN</td>\n",
       "      <td>5</td>\n",
       "      <td>11</td>\n",
       "      <td>92.1</td>\n",
       "      <td>2</td>\n",
       "      <td>3</td>\n",
       "      <td>1</td>\n",
       "      <td>78</td>\n",
       "      <td>3</td>\n",
       "      <td>30996</td>\n",
       "      <td>42473.381395</td>\n",
       "      <td>nodiab</td>\n",
       "    </tr>\n",
       "    <tr>\n",
       "      <th>5502</th>\n",
       "      <td>NaN</td>\n",
       "      <td>30.95</td>\n",
       "      <td>180.2</td>\n",
       "      <td>109.6</td>\n",
       "      <td>1</td>\n",
       "      <td>NaN</td>\n",
       "      <td>5</td>\n",
       "      <td>10</td>\n",
       "      <td>89.6</td>\n",
       "      <td>2</td>\n",
       "      <td>2</td>\n",
       "      <td>1</td>\n",
       "      <td>64</td>\n",
       "      <td>4</td>\n",
       "      <td>31013</td>\n",
       "      <td>11770.815815</td>\n",
       "      <td>nodiab</td>\n",
       "    </tr>\n",
       "    <tr>\n",
       "      <th>5503</th>\n",
       "      <td>NaN</td>\n",
       "      <td>26.45</td>\n",
       "      <td>172.7</td>\n",
       "      <td>91.8</td>\n",
       "      <td>2</td>\n",
       "      <td>NaN</td>\n",
       "      <td>3</td>\n",
       "      <td>6</td>\n",
       "      <td>82.1</td>\n",
       "      <td>2</td>\n",
       "      <td>4</td>\n",
       "      <td>1</td>\n",
       "      <td>30</td>\n",
       "      <td>1</td>\n",
       "      <td>31035</td>\n",
       "      <td>27975.222580</td>\n",
       "      <td>nodiab</td>\n",
       "    </tr>\n",
       "    <tr>\n",
       "      <th>5504</th>\n",
       "      <td>1</td>\n",
       "      <td>42.88</td>\n",
       "      <td>171.9</td>\n",
       "      <td>127.0</td>\n",
       "      <td>1</td>\n",
       "      <td>NaN</td>\n",
       "      <td>5</td>\n",
       "      <td>11</td>\n",
       "      <td>95.9</td>\n",
       "      <td>1</td>\n",
       "      <td>1</td>\n",
       "      <td>2</td>\n",
       "      <td>41</td>\n",
       "      <td>3</td>\n",
       "      <td>31037</td>\n",
       "      <td>90859.018144</td>\n",
       "      <td>nodiab</td>\n",
       "    </tr>\n",
       "    <tr>\n",
       "      <th>5505</th>\n",
       "      <td>NaN</td>\n",
       "      <td>24.83</td>\n",
       "      <td>158.9</td>\n",
       "      <td>88.9</td>\n",
       "      <td>2</td>\n",
       "      <td>NaN</td>\n",
       "      <td>5</td>\n",
       "      <td>10</td>\n",
       "      <td>98.2</td>\n",
       "      <td>1</td>\n",
       "      <td>3</td>\n",
       "      <td>2</td>\n",
       "      <td>35</td>\n",
       "      <td>3</td>\n",
       "      <td>31051</td>\n",
       "      <td>52583.890962</td>\n",
       "      <td>nodiab</td>\n",
       "    </tr>\n",
       "    <tr>\n",
       "      <th>5506</th>\n",
       "      <td>NaN</td>\n",
       "      <td>27.08</td>\n",
       "      <td>178.3</td>\n",
       "      <td>86.6</td>\n",
       "      <td>2</td>\n",
       "      <td>NaN</td>\n",
       "      <td>5</td>\n",
       "      <td>12</td>\n",
       "      <td>93.8</td>\n",
       "      <td>2</td>\n",
       "      <td>1</td>\n",
       "      <td>1</td>\n",
       "      <td>23</td>\n",
       "      <td>4</td>\n",
       "      <td>31058</td>\n",
       "      <td>26105.586793</td>\n",
       "      <td>nodiab</td>\n",
       "    </tr>\n",
       "    <tr>\n",
       "      <th>5507</th>\n",
       "      <td>NaN</td>\n",
       "      <td>25.63</td>\n",
       "      <td>179.1</td>\n",
       "      <td>89.5</td>\n",
       "      <td>2</td>\n",
       "      <td>NaN</td>\n",
       "      <td>4</td>\n",
       "      <td>10</td>\n",
       "      <td>96.9</td>\n",
       "      <td>2</td>\n",
       "      <td>3</td>\n",
       "      <td>1</td>\n",
       "      <td>21</td>\n",
       "      <td>3</td>\n",
       "      <td>31065</td>\n",
       "      <td>58642.087621</td>\n",
       "      <td>nodiab</td>\n",
       "    </tr>\n",
       "    <tr>\n",
       "      <th>5508</th>\n",
       "      <td>NaN</td>\n",
       "      <td>29.96</td>\n",
       "      <td>184.7</td>\n",
       "      <td>106.7</td>\n",
       "      <td>2</td>\n",
       "      <td>NaN</td>\n",
       "      <td>5</td>\n",
       "      <td>3</td>\n",
       "      <td>95.1</td>\n",
       "      <td>9</td>\n",
       "      <td>3</td>\n",
       "      <td>1</td>\n",
       "      <td>32</td>\n",
       "      <td>3</td>\n",
       "      <td>31066</td>\n",
       "      <td>104407.879699</td>\n",
       "      <td>nodiab</td>\n",
       "    </tr>\n",
       "    <tr>\n",
       "      <th>5509</th>\n",
       "      <td>NaN</td>\n",
       "      <td>32.28</td>\n",
       "      <td>176.7</td>\n",
       "      <td>118.1</td>\n",
       "      <td>2</td>\n",
       "      <td>NaN</td>\n",
       "      <td>2</td>\n",
       "      <td>6</td>\n",
       "      <td>97.4</td>\n",
       "      <td>2</td>\n",
       "      <td>1</td>\n",
       "      <td>1</td>\n",
       "      <td>64</td>\n",
       "      <td>1</td>\n",
       "      <td>31079</td>\n",
       "      <td>2394.087547</td>\n",
       "      <td>nodiab</td>\n",
       "    </tr>\n",
       "    <tr>\n",
       "      <th>5510</th>\n",
       "      <td>NaN</td>\n",
       "      <td>NaN</td>\n",
       "      <td>NaN</td>\n",
       "      <td>NaN</td>\n",
       "      <td>1</td>\n",
       "      <td>NaN</td>\n",
       "      <td>5</td>\n",
       "      <td>11</td>\n",
       "      <td>93.9</td>\n",
       "      <td>1</td>\n",
       "      <td>1</td>\n",
       "      <td>1</td>\n",
       "      <td>44</td>\n",
       "      <td>3</td>\n",
       "      <td>31095</td>\n",
       "      <td>86828.693931</td>\n",
       "      <td>nodiab</td>\n",
       "    </tr>\n",
       "    <tr>\n",
       "      <th>5511</th>\n",
       "      <td>NaN</td>\n",
       "      <td>24.21</td>\n",
       "      <td>160.8</td>\n",
       "      <td>95.7</td>\n",
       "      <td>1</td>\n",
       "      <td>NaN</td>\n",
       "      <td>5</td>\n",
       "      <td>3</td>\n",
       "      <td>88.9</td>\n",
       "      <td>2</td>\n",
       "      <td>2</td>\n",
       "      <td>1</td>\n",
       "      <td>83</td>\n",
       "      <td>3</td>\n",
       "      <td>31098</td>\n",
       "      <td>7725.368343</td>\n",
       "      <td>nodiab</td>\n",
       "    </tr>\n",
       "    <tr>\n",
       "      <th>5512</th>\n",
       "      <td>NaN</td>\n",
       "      <td>25.00</td>\n",
       "      <td>174.8</td>\n",
       "      <td>81.5</td>\n",
       "      <td>2</td>\n",
       "      <td>NaN</td>\n",
       "      <td>4</td>\n",
       "      <td>4</td>\n",
       "      <td>82.9</td>\n",
       "      <td>1</td>\n",
       "      <td>2</td>\n",
       "      <td>1</td>\n",
       "      <td>40</td>\n",
       "      <td>4</td>\n",
       "      <td>31105</td>\n",
       "      <td>32601.577582</td>\n",
       "      <td>nodiab</td>\n",
       "    </tr>\n",
       "    <tr>\n",
       "      <th>5513</th>\n",
       "      <td>2</td>\n",
       "      <td>21.28</td>\n",
       "      <td>164.8</td>\n",
       "      <td>73.5</td>\n",
       "      <td>2</td>\n",
       "      <td>NaN</td>\n",
       "      <td>2</td>\n",
       "      <td>4</td>\n",
       "      <td>92.6</td>\n",
       "      <td>9</td>\n",
       "      <td>2</td>\n",
       "      <td>2</td>\n",
       "      <td>55</td>\n",
       "      <td>3</td>\n",
       "      <td>31114</td>\n",
       "      <td>42149.101066</td>\n",
       "      <td>nodiab</td>\n",
       "    </tr>\n",
       "    <tr>\n",
       "      <th>5514</th>\n",
       "      <td>NaN</td>\n",
       "      <td>25.92</td>\n",
       "      <td>166.1</td>\n",
       "      <td>89.5</td>\n",
       "      <td>2</td>\n",
       "      <td>NaN</td>\n",
       "      <td>4</td>\n",
       "      <td>11</td>\n",
       "      <td>80.5</td>\n",
       "      <td>1</td>\n",
       "      <td>2</td>\n",
       "      <td>2</td>\n",
       "      <td>54</td>\n",
       "      <td>3</td>\n",
       "      <td>31116</td>\n",
       "      <td>72315.328639</td>\n",
       "      <td>nodiab</td>\n",
       "    </tr>\n",
       "  </tbody>\n",
       "</table>\n",
       "<p>5515 rows × 17 columns</p>\n",
       "</div>"
      ],
      "text/plain": [
       "      ALQ110  BMXBMI  BMXHT  BMXWAIST  BPQ020  DIQ010  DMDEDUC2  INDHHINC  \\\n",
       "0        NaN   25.57  157.7       NaN       1       1         1         3   \n",
       "1        NaN   36.94  174.9     130.6       1       1         3         3   \n",
       "2          1   26.17  171.1      94.9       2       1         2         6   \n",
       "3        NaN   29.51  168.3     110.6       2       1         3         3   \n",
       "4        NaN   22.36  169.3      91.3       2       1         4         6   \n",
       "5        NaN     NaN    NaN       NaN       2       1         1        12   \n",
       "6        NaN   27.92  168.0      93.9       2       1         4        11   \n",
       "7          2   35.92  175.4     121.7       2       1         3         8   \n",
       "8        NaN   23.43  170.0      89.0       2       1         4         6   \n",
       "9        NaN   37.07  170.3     121.1       2       1         4         8   \n",
       "10       NaN   26.10  168.6      95.4       2       1         3         3   \n",
       "11       NaN   38.56  174.2     126.5       2       1         4       NaN   \n",
       "12       NaN   30.68  170.6     104.6       1       1         4         5   \n",
       "13         1   25.61  178.5     104.2       1       1         4         3   \n",
       "14       NaN   23.31  169.9      88.0       1       1         2       NaN   \n",
       "15       NaN   23.92  178.0      96.4       1       1         2       NaN   \n",
       "16       NaN   38.45  165.8     117.5       1       1         3         6   \n",
       "17         1   19.90  169.4      85.6       1       1         1         5   \n",
       "18       NaN   28.96  170.5     106.2       1       1         1       NaN   \n",
       "19       NaN   24.11  169.8      95.7       1       1         1         2   \n",
       "20       NaN   23.69  165.5      91.9       1       1         2         3   \n",
       "21         2   31.43  148.6      94.5       1       1         1         1   \n",
       "22       NaN   32.41  174.5     110.2       2       1         4         7   \n",
       "23       NaN   39.03  176.0     134.2       2       1         2         2   \n",
       "24       NaN   26.94  176.2      93.6       2       1         5         9   \n",
       "25         2   33.61  157.8     105.8       2       1         4        11   \n",
       "26         1   31.77  157.0      94.6       2       1         4         7   \n",
       "27       NaN   27.30  154.9     103.1       2       1         4         2   \n",
       "28       NaN   30.27  173.9     113.7       2       1         5         8   \n",
       "29         1   24.85  175.0      90.9       2       1         3         9   \n",
       "...      ...     ...    ...       ...     ...     ...       ...       ...   \n",
       "5485     NaN   23.96  171.9      82.5       2     NaN         3         6   \n",
       "5486       1   32.87  165.1     103.0       1     NaN         5         8   \n",
       "5487     NaN   18.32  168.3      70.3       2     NaN         5        10   \n",
       "5488       1   24.06  160.8      84.1       2     NaN         5        11   \n",
       "5489     NaN   27.22  167.2      96.0       1     NaN         5         7   \n",
       "5490     NaN   25.12  160.0      98.4       2     NaN         1        99   \n",
       "5491     NaN   21.47  170.6      81.9       2     NaN         2       NaN   \n",
       "5492     NaN   22.80  173.7      90.7       2     NaN         4         7   \n",
       "5493     NaN   17.84  181.7      69.1       2     NaN         2         6   \n",
       "5494     NaN   26.60  176.0      83.4       2     NaN         2         7   \n",
       "5495     NaN   35.53  156.3     106.5       2     NaN         4         6   \n",
       "5496     NaN   21.02  171.2      78.7       2     NaN         2         6   \n",
       "5497     NaN   24.70  166.9      84.0       2     NaN         3         3   \n",
       "5498     NaN   36.75  174.5     122.4       2     NaN         1         4   \n",
       "5499       1   28.45  171.2     101.7       1     NaN         4        10   \n",
       "5500     NaN   21.79  180.4      81.5     NaN     NaN         5         2   \n",
       "5501     NaN   24.01  174.6      93.9       2     NaN         5        11   \n",
       "5502     NaN   30.95  180.2     109.6       1     NaN         5        10   \n",
       "5503     NaN   26.45  172.7      91.8       2     NaN         3         6   \n",
       "5504       1   42.88  171.9     127.0       1     NaN         5        11   \n",
       "5505     NaN   24.83  158.9      88.9       2     NaN         5        10   \n",
       "5506     NaN   27.08  178.3      86.6       2     NaN         5        12   \n",
       "5507     NaN   25.63  179.1      89.5       2     NaN         4        10   \n",
       "5508     NaN   29.96  184.7     106.7       2     NaN         5         3   \n",
       "5509     NaN   32.28  176.7     118.1       2     NaN         2         6   \n",
       "5510     NaN     NaN    NaN       NaN       1     NaN         5        11   \n",
       "5511     NaN   24.21  160.8      95.7       1     NaN         5         3   \n",
       "5512     NaN   25.00  174.8      81.5       2     NaN         4         4   \n",
       "5513       2   21.28  164.8      73.5       2     NaN         2         4   \n",
       "5514     NaN   25.92  166.1      89.5       2     NaN         4        11   \n",
       "\n",
       "      LBXGLU  MCQ250A  PAQ180  RIAGENDR  RIDAGEYR  RIDRETH1   SEQN  \\\n",
       "0        NaN        1       1         1        70         1     13   \n",
       "1        NaN        1       1         1        62         3     29   \n",
       "2        NaN        1       4         1        59         3    130   \n",
       "3        NaN        9       1         1        82         4    266   \n",
       "4        NaN        1       3         1        56         3    272   \n",
       "5        NaN        2       1         1        85         3    360   \n",
       "6        NaN        1       1         2        45         1    535   \n",
       "7        NaN        2       2         1        69         3    655   \n",
       "8        NaN        1       1         2        45         4    675   \n",
       "9        NaN        2       2         1        48         1    681   \n",
       "10       NaN        1       2         1        59         1    695   \n",
       "11       NaN        1       2         2        32         4    701   \n",
       "12       NaN        2       1         1        73         3    925   \n",
       "13       NaN        1       2         1        78         3    943   \n",
       "14       NaN        2       1         1        80         1    963   \n",
       "15       NaN        1       2         1        72         4    968   \n",
       "16       NaN        1       3         2        26         4    971   \n",
       "17       NaN        2       2         1        79         4    972   \n",
       "18       NaN        2       1         1        64         2    999   \n",
       "19       NaN        2       2         1        65         4   1031   \n",
       "20       NaN        1       1         2        48         4   1150   \n",
       "21       NaN        1       2         2        46         1   1163   \n",
       "22       NaN        1       2         1        62         1   1171   \n",
       "23       NaN        9       1         1        68         4   1173   \n",
       "24       NaN        1       3         1        60         3   1226   \n",
       "25       NaN        1       1         2        45         1   1243   \n",
       "26       NaN        9       2         2        40         4   1264   \n",
       "27       NaN        9       1         1        72         3   1279   \n",
       "28       NaN        2       2         1        54         3   1328   \n",
       "29       NaN        1       4         1        67         3   1352   \n",
       "...      ...      ...     ...       ...       ...       ...    ...   \n",
       "5485    74.5        2       1         2        39         4  30843   \n",
       "5486    94.9        2       2         2        45         4  30846   \n",
       "5487    93.2        2       2         2        33         3  30862   \n",
       "5488    84.7        2       2         2        35         5  30868   \n",
       "5489    95.3        2       2         1        82         3  30890   \n",
       "5490    97.9        1       1         1        72         1  30907   \n",
       "5491    90.0        2       2         2        43         3  30911   \n",
       "5492    92.8        1       2         2        54         3  30915   \n",
       "5493    85.0        1       1         1        20         4  30917   \n",
       "5494    95.3        1       2         1        20         4  30925   \n",
       "5495    83.8        1       2         2        28         4  30928   \n",
       "5496    89.1        2       3         2        36         3  30947   \n",
       "5497    98.4        2       3         1        35         2  30955   \n",
       "5498    97.5        2       2         1        55         1  30959   \n",
       "5499    90.8        2       3         1        68         4  30976   \n",
       "5500    90.2        2       2         1        23         3  30987   \n",
       "5501    92.1        2       3         1        78         3  30996   \n",
       "5502    89.6        2       2         1        64         4  31013   \n",
       "5503    82.1        2       4         1        30         1  31035   \n",
       "5504    95.9        1       1         2        41         3  31037   \n",
       "5505    98.2        1       3         2        35         3  31051   \n",
       "5506    93.8        2       1         1        23         4  31058   \n",
       "5507    96.9        2       3         1        21         3  31065   \n",
       "5508    95.1        9       3         1        32         3  31066   \n",
       "5509    97.4        2       1         1        64         1  31079   \n",
       "5510    93.9        1       1         1        44         3  31095   \n",
       "5511    88.9        2       2         1        83         3  31098   \n",
       "5512    82.9        1       2         1        40         4  31105   \n",
       "5513    92.6        9       2         2        55         3  31114   \n",
       "5514    80.5        1       2         2        54         3  31116   \n",
       "\n",
       "           WTINT2YR  status  \n",
       "0       1647.446107    diag  \n",
       "1      42515.710172    diag  \n",
       "2      70420.818338    diag  \n",
       "3       6916.692889    diag  \n",
       "4      95894.532170    diag  \n",
       "5      14909.266504    diag  \n",
       "6       8838.541093    diag  \n",
       "7      54098.536194    diag  \n",
       "8      19519.870942    diag  \n",
       "9      25770.424595    diag  \n",
       "10     10948.407356    diag  \n",
       "11     34002.146073    diag  \n",
       "12     33738.592673    diag  \n",
       "13     21546.985228    diag  \n",
       "14      1781.576942    diag  \n",
       "15     12082.861586    diag  \n",
       "16     31342.016622    diag  \n",
       "17      8645.535432    diag  \n",
       "18     23151.923319    diag  \n",
       "19     10519.561331    diag  \n",
       "20     38097.545924    diag  \n",
       "21      6223.858446    diag  \n",
       "22      2376.246902    diag  \n",
       "23      8986.031938    diag  \n",
       "24     46199.882860    diag  \n",
       "25     10230.614605    diag  \n",
       "26     20897.604392    diag  \n",
       "27     10885.794482    diag  \n",
       "28     70771.442734    diag  \n",
       "29     53318.307848    diag  \n",
       "...             ...     ...  \n",
       "5485   33102.647144  nodiab  \n",
       "5486   29112.518471  nodiab  \n",
       "5487   72645.671949  nodiab  \n",
       "5488   79904.139390  nodiab  \n",
       "5489   19194.078253  nodiab  \n",
       "5490    3758.795022  nodiab  \n",
       "5491   45823.441813  nodiab  \n",
       "5492   78406.810577  nodiab  \n",
       "5493   20554.304715  nodiab  \n",
       "5494   23090.402645  nodiab  \n",
       "5495   37318.672675  nodiab  \n",
       "5496   72432.098302  nodiab  \n",
       "5497   32495.235985  nodiab  \n",
       "5498   16910.374274  nodiab  \n",
       "5499   11775.000208  nodiab  \n",
       "5500   30941.533268  nodiab  \n",
       "5501   42473.381395  nodiab  \n",
       "5502   11770.815815  nodiab  \n",
       "5503   27975.222580  nodiab  \n",
       "5504   90859.018144  nodiab  \n",
       "5505   52583.890962  nodiab  \n",
       "5506   26105.586793  nodiab  \n",
       "5507   58642.087621  nodiab  \n",
       "5508  104407.879699  nodiab  \n",
       "5509    2394.087547  nodiab  \n",
       "5510   86828.693931  nodiab  \n",
       "5511    7725.368343  nodiab  \n",
       "5512   32601.577582  nodiab  \n",
       "5513   42149.101066  nodiab  \n",
       "5514   72315.328639  nodiab  \n",
       "\n",
       "[5515 rows x 17 columns]"
      ]
     },
     "execution_count": 151,
     "metadata": {},
     "output_type": "execute_result"
    }
   ],
   "source": [
    "df.head()\n",
    "df"
   ]
  },
  {
   "cell_type": "markdown",
   "metadata": {},
   "source": [
    "# Classification"
   ]
  },
  {
   "cell_type": "code",
   "execution_count": 152,
   "metadata": {
    "collapsed": true
   },
   "outputs": [],
   "source": [
    "from sklearn.ensemble import RandomForestClassifier\n",
    "from sklearn.cross_validation import KFold"
   ]
  },
  {
   "cell_type": "code",
   "execution_count": 153,
   "metadata": {
    "collapsed": true
   },
   "outputs": [],
   "source": [
    "rf = RandomForestClassifier()"
   ]
  },
  {
   "cell_type": "code",
   "execution_count": 154,
   "metadata": {
    "collapsed": false
   },
   "outputs": [],
   "source": [
    "y = df.status\n",
    "X = df.drop(['status', 'SEQN', 'LBXGLU','DIQ010'], axis=1).fillna(0)"
   ]
  },
  {
   "cell_type": "code",
   "execution_count": 155,
   "metadata": {
    "collapsed": false
   },
   "outputs": [],
   "source": [
    "kf = KFold(X.shape[0], n_folds=10, shuffle=True)"
   ]
  },
  {
   "cell_type": "code",
   "execution_count": 156,
   "metadata": {
    "collapsed": false
   },
   "outputs": [],
   "source": [
    "def CV(kf, X, y):\n",
    "    fold_pred = []\n",
    "    for i, (train_index, test_index) in enumerate(kf):\n",
    "        X_train, X_test = X.loc[train_index], X.loc[test_index]\n",
    "        y_train, y_test = y[train_index], y[test_index]\n",
    "        clf = rf.fit(X_train, y_train)\n",
    "        pred = clf.predict(X_test)\n",
    "        acc = sum(pred == y_test)/float(len(pred))\n",
    "        print('Fold #{}: {}'.format(i, round(acc, 3)))\n",
    "        fold_pred.append(acc)\n",
    "    avg = sum(fold_pred)/len(fold_pred)\n",
    "    print('AVERAGE:', round(avg, 3))"
   ]
  },
  {
   "cell_type": "code",
   "execution_count": 157,
   "metadata": {
    "collapsed": false
   },
   "outputs": [
    {
     "name": "stdout",
     "output_type": "stream",
     "text": [
      "Predicting diabetes diagnosis based on\n",
      "Fold #0: 0.81\n",
      "Fold #1: 0.806\n",
      "Fold #2: 0.79\n",
      "Fold #3: 0.774\n",
      "Fold #4: 0.799\n",
      "Fold #5: 0.797\n",
      "Fold #6: 0.795\n",
      "Fold #7: 0.791\n",
      "Fold #8: 0.802\n",
      "Fold #9: 0.773\n",
      "('AVERAGE:', 0.794)\n"
     ]
    },
    {
     "data": {
      "text/plain": [
       "0.77313974591651546"
      ]
     },
     "execution_count": 157,
     "metadata": {},
     "output_type": "execute_result"
    }
   ],
   "source": [
    "print('Predicting diabetes diagnosis based on')\n",
    "CV(kf, X, y)"
   ]
  },
  {
   "cell_type": "code",
   "execution_count": 132,
   "metadata": {
    "collapsed": false
   },
   "outputs": [
    {
     "data": {
      "image/png": "[encoded data removed]",
      "text/plain": [
       "<matplotlib.figure.Figure at 0x113371e50>"
      ]
     },
     "metadata": {},
     "output_type": "display_data"
    }
   ],
   "source": [
    "pd.DataFrame({'importance': rf.feature_importances_}, index=X.columns) \\\n",
    "     .sort_values(by='importance') \\\n",
    "     .plot(kind='barh', figsize=(8,8));"
   ]
  },
  {
   "cell_type": "code",
   "execution_count": null,
   "metadata": {
    "collapsed": false
   },
   "outputs": [],
   "source": []
  },
  {
   "cell_type": "code",
   "execution_count": null,
   "metadata": {
    "collapsed": true
   },
   "outputs": [],
   "source": []
  }
 ],
 "metadata": {
  "kernelspec": {
   "display_name": "Python 2",
   "language": "python",
   "name": "python2"
  }
 },
 "nbformat": 4,
 "nbformat_minor": 0
}
